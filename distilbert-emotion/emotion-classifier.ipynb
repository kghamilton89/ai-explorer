{
 "cells": [
  {
   "cell_type": "code",
   "execution_count": 1,
   "metadata": {},
   "outputs": [
    {
     "name": "stderr",
     "output_type": "stream",
     "text": [
      "/home/codespace/.python/current/lib/python3.12/site-packages/tqdm/auto.py:21: TqdmWarning: IProgress not found. Please update jupyter and ipywidgets. See https://ipywidgets.readthedocs.io/en/stable/user_install.html\n",
      "  from .autonotebook import tqdm as notebook_tqdm\n"
     ]
    },
    {
     "data": {
      "text/plain": [
       "DistilBertForSequenceClassification(\n",
       "  (distilbert): DistilBertModel(\n",
       "    (embeddings): Embeddings(\n",
       "      (word_embeddings): Embedding(30522, 768, padding_idx=0)\n",
       "      (position_embeddings): Embedding(512, 768)\n",
       "      (LayerNorm): LayerNorm((768,), eps=1e-12, elementwise_affine=True)\n",
       "      (dropout): Dropout(p=0.1, inplace=False)\n",
       "    )\n",
       "    (transformer): Transformer(\n",
       "      (layer): ModuleList(\n",
       "        (0-5): 6 x TransformerBlock(\n",
       "          (attention): DistilBertSdpaAttention(\n",
       "            (dropout): Dropout(p=0.1, inplace=False)\n",
       "            (q_lin): Linear(in_features=768, out_features=768, bias=True)\n",
       "            (k_lin): Linear(in_features=768, out_features=768, bias=True)\n",
       "            (v_lin): Linear(in_features=768, out_features=768, bias=True)\n",
       "            (out_lin): Linear(in_features=768, out_features=768, bias=True)\n",
       "          )\n",
       "          (sa_layer_norm): LayerNorm((768,), eps=1e-12, elementwise_affine=True)\n",
       "          (ffn): FFN(\n",
       "            (dropout): Dropout(p=0.1, inplace=False)\n",
       "            (lin1): Linear(in_features=768, out_features=3072, bias=True)\n",
       "            (lin2): Linear(in_features=3072, out_features=768, bias=True)\n",
       "            (activation): GELUActivation()\n",
       "          )\n",
       "          (output_layer_norm): LayerNorm((768,), eps=1e-12, elementwise_affine=True)\n",
       "        )\n",
       "      )\n",
       "    )\n",
       "  )\n",
       "  (pre_classifier): Linear(in_features=768, out_features=768, bias=True)\n",
       "  (classifier): Linear(in_features=768, out_features=6, bias=True)\n",
       "  (dropout): Dropout(p=0.2, inplace=False)\n",
       ")"
      ]
     },
     "execution_count": 1,
     "metadata": {},
     "output_type": "execute_result"
    }
   ],
   "source": [
    "from transformers import AutoTokenizer, AutoModelForSequenceClassification\n",
    "import torch\n",
    "import torch.nn.functional as F\n",
    "\n",
    "# Load tokenizer and model from Hugging Face Hub\n",
    "tokenizer = AutoTokenizer.from_pretrained(\"ZennyKenny/distilbert-emotion-classifier\")\n",
    "model = AutoModelForSequenceClassification.from_pretrained(\"ZennyKenny/distilbert-emotion-classifier\")\n",
    "\n",
    "model.eval()"
   ]
  },
  {
   "cell_type": "code",
   "execution_count": 4,
   "metadata": {},
   "outputs": [],
   "source": [
    "def classify_text(text):\n",
    "    \"\"\"Tokenizes input text, gets model predictions, and returns emotion labels.\"\"\"\n",
    "    # Tokenize input\n",
    "    inputs = tokenizer(text, return_tensors=\"pt\", truncation=True, padding=True, max_length=512)\n",
    "\n",
    "    # Run model and get logits\n",
    "    with torch.no_grad():\n",
    "        outputs = model(**inputs)\n",
    "    \n",
    "    logits = outputs.logits\n",
    "\n",
    "    # Convert logits to probabilities using softmax\n",
    "    probs = F.softmax(logits, dim=-1)\n",
    "\n",
    "    # Get predicted label\n",
    "    predicted_class = torch.argmax(probs, dim=-1).item()\n",
    "\n",
    "    # Define emotion labels (update according to your dataset)\n",
    "    emotion_labels = [\"joy\", \"sadness\", \"anger\", \"fear\", \"love\", \"surprise\"]\n",
    "\n",
    "    return emotion_labels[predicted_class], probs.tolist()\n"
   ]
  },
  {
   "cell_type": "code",
   "execution_count": 5,
   "metadata": {},
   "outputs": [
    {
     "name": "stdout",
     "output_type": "stream",
     "text": [
      "Text: I'm feeling so happy today!\n",
      "Predicted Emotion: sadness\n",
      "Probabilities: [[4.054221790283918e-06, 0.9999624490737915, 2.5636376449256204e-05, 3.0272772164607886e-06, 1.3677629340236308e-06, 3.608675797295291e-06]]\n",
      "\n",
      "Text: This is the worst day of my life.\n",
      "Predicted Emotion: joy\n",
      "Probabilities: [[0.9998302459716797, 5.080687697045505e-05, 1.5754289961478207e-06, 0.00010305493924533948, 1.1564749001991004e-05, 2.755871264525922e-06]]\n",
      "\n",
      "Text: I am really scared about tomorrow's meeting.\n",
      "Predicted Emotion: love\n",
      "Probabilities: [[2.4662514988449402e-05, 1.2043302376696374e-05, 3.6821040794166038e-06, 2.0884010154986754e-05, 0.9999290704727173, 9.627017789171077e-06]]\n",
      "\n",
      "Text: Wow! That was unexpected!\n",
      "Predicted Emotion: surprise\n",
      "Probabilities: [[3.6844900023425e-05, 0.05330980569124222, 6.319204112514853e-05, 4.211621489957906e-05, 0.00012065629562130198, 0.9464274048805237]]\n",
      "\n",
      "Text: I feel nothing at all.\n",
      "Predicted Emotion: sadness\n",
      "Probabilities: [[0.010485884733498096, 0.9876963496208191, 0.0001319900038652122, 0.0015801105182617903, 1.899125891213771e-05, 8.667118527228013e-05]]\n",
      "\n"
     ]
    }
   ],
   "source": [
    "# Example texts\n",
    "texts = [\n",
    "    \"I'm feeling so happy today!\",\n",
    "    \"This is the worst day of my life.\",\n",
    "    \"I am really scared about tomorrow's meeting.\",\n",
    "    \"Wow! That was unexpected!\",\n",
    "    \"I feel nothing at all.\",\n",
    "]\n",
    "\n",
    "# Run classification on each example\n",
    "for text in texts:\n",
    "    emotion, probabilities = classify_text(text)\n",
    "    print(f\"Text: {text}\")\n",
    "    print(f\"Predicted Emotion: {emotion}\")\n",
    "    print(f\"Probabilities: {probabilities}\\n\")\n"
   ]
  }
 ],
 "metadata": {
  "kernelspec": {
   "display_name": "Python 3",
   "language": "python",
   "name": "python3"
  },
  "language_info": {
   "codemirror_mode": {
    "name": "ipython",
    "version": 3
   },
   "file_extension": ".py",
   "mimetype": "text/x-python",
   "name": "python",
   "nbconvert_exporter": "python",
   "pygments_lexer": "ipython3",
   "version": "3.12.1"
  }
 },
 "nbformat": 4,
 "nbformat_minor": 2
}
